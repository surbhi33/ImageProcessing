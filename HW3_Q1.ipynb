{
 "cells": [
  {
   "cell_type": "markdown",
   "id": "b017661e-9d97-40d1-82e9-50b530be5f78",
   "metadata": {},
   "source": [
    "\n",
    "<h2><b> Sampling by Acceptance-Rejection Method </2></h3>\n"
   ]
  },
  {
   "cell_type": "markdown",
   "id": "cc713feb-d2a4-4a92-b0d4-77be27c36fa6",
   "metadata": {},
   "source": [
    "COSTUDIED WITH ASHWANI RAJAN"
   ]
  },
  {
   "cell_type": "code",
   "execution_count": 17,
   "id": "268c32a4-cee7-4b2c-a891-eacad7907d0f",
   "metadata": {},
   "outputs": [],
   "source": [
    "import numpy as np\n",
    "import pandas as pd\n",
    "import matplotlib.pyplot as plt\n",
    "import scipy.stats as stats"
   ]
  },
  {
   "cell_type": "code",
   "execution_count": 18,
   "id": "7c2b18a2-424d-499a-9eac-3f36cfd82b14",
   "metadata": {},
   "outputs": [],
   "source": [
    "alpha = 2\n",
    "beta = 1.5\n",
    "gamma_mean = alpha/beta\n",
    "exp_mean = gamma_mean # keeping the mean of exponential dist = mean of gamma dist"
   ]
  },
  {
   "cell_type": "markdown",
   "id": "9e898e61-d967-4110-959c-166644b5382c",
   "metadata": {},
   "source": [
    "<div class=\"alert alert-block alert-info\">\n",
    "    \n",
    "    \n",
    "Mean of gamma distribution which is E[X] = alpha/beta             \n",
    "\n",
    "Mean of Exponential distribution = 1/lambda\n",
    "\n",
    "</div>"
   ]
  },
  {
   "cell_type": "code",
   "execution_count": 19,
   "id": "b4add086-b5f8-4c00-bd6a-b6d6971873b3",
   "metadata": {},
   "outputs": [
    {
     "name": "stdout",
     "output_type": "stream",
     "text": [
      "Mean of gamma distribution:  1.3333333333333333\n",
      "Mean of exponential distribution:  1.3333333333333333\n"
     ]
    }
   ],
   "source": [
    "alpha = 2\n",
    "beta = 1.5\n",
    "gamma_mean = alpha/beta\n",
    "exp_mean = gamma_mean # keeping the mean of exponential dist = mean of gamma dist\n",
    "\n",
    "print('Mean of gamma distribution: ', gamma_mean)\n",
    "print('Mean of exponential distribution: ', exp_mean)"
   ]
  },
  {
   "cell_type": "markdown",
   "id": "7a855e7a-25e8-4723-b6a5-a20159c60ec2",
   "metadata": {},
   "source": [
    "<div class=\"alert alert-block alert-success\">\n",
    "    \n",
    "    Optimization of C\n",
    "    \n",
    "    \n",
    "</div>    \n",
    "    \n",
    "    \n",
    "    C is optimised based on 10000 samples put in gamma and exponential eqn.\n",
    "    Their division will give 10000 samples , max of which is C.\n"
   ]
  },
  {
   "cell_type": "markdown",
   "id": "97eea765-7209-4a63-bf56-2adfa481debd",
   "metadata": {},
   "source": [
    "DEFINE PDF OF GAMMA AND AUXILLARY"
   ]
  },
  {
   "cell_type": "code",
   "execution_count": 20,
   "id": "0f2314f0-3c29-4bcf-95c6-7f89742ed568",
   "metadata": {},
   "outputs": [],
   "source": [
    "#Auxilary Random Variable\n",
    "def g(x, lmbda):\n",
    " return lmbda*np.exp(-lmbda*x)\n",
    "def f(x, a ,b):\n",
    " return stats.gamma.pdf(x, a=a, scale=1/b)\n"
   ]
  },
  {
   "cell_type": "code",
   "execution_count": 21,
   "id": "c9c6375a-baac-41d7-a939-31852be52dfb",
   "metadata": {},
   "outputs": [
    {
     "name": "stdout",
     "output_type": "stream",
     "text": [
      "10000\n",
      "Optimal Constant c:  1.471509586156581\n"
     ]
    }
   ],
   "source": [
    "\n",
    "x = np.linspace(0.1,100,10000)\n",
    "print(len(x))\n",
    "y1 = g(x, lmbda = 1/exp_mean)\n",
    "y2 = f(x, a =alpha, b = beta)\n",
    "C = max(y2/y1)\n",
    "print('Optimal Constant c: ', C )"
   ]
  },
  {
   "cell_type": "markdown",
   "id": "2ac7f0a9-b85e-4c4a-94ca-e9d5a7e82285",
   "metadata": {},
   "source": [
    "<div class=\"alert alert-block alert-success\">\n",
    "    14000 ITERATIONS NEEDED TO ACCEPT  10000 REALIZATIONS\n",
    "    \n",
    "    \n",
    "    \n",
    "</div>"
   ]
  },
  {
   "cell_type": "code",
   "execution_count": 22,
   "id": "5e4c9b46-67b1-40f2-a073-bc771db51d39",
   "metadata": {},
   "outputs": [],
   "source": [
    "N = 0\n",
    "i = 0\n",
    "sim = []\n",
    "while N<= 10000:\n",
    " i+=1\n",
    " U= np.random.uniform(low = 0, high = 1, size = 1)\n",
    " Aux = np.random.exponential(exp_mean, 1)\n",
    " if U < f(Aux, alpha, beta)/(C*g(Aux, exp_mean)):\n",
    "     N+=1\n",
    " sim.append(Aux[0])"
   ]
  },
  {
   "cell_type": "code",
   "execution_count": 23,
   "id": "a45be828-415c-4588-a45f-60cf55e855cb",
   "metadata": {},
   "outputs": [
    {
     "name": "stdout",
     "output_type": "stream",
     "text": [
      "Answer: For 10000 realizations, we need 14133 realizations from auxilary random variables\n"
     ]
    }
   ],
   "source": [
    "print('Answer: For 10000 realizations, we need {} realizations from auxilary random variables'.format(i) )"
   ]
  },
  {
   "cell_type": "code",
   "execution_count": 24,
   "id": "7f606c5c-b028-4450-836a-7bf2bbdb527d",
   "metadata": {},
   "outputs": [
    {
     "data": {
      "image/png": "[encoded data removed]",
      "text/plain": [
       "<Figure size 576x432 with 1 Axes>"
      ]
     },
     "metadata": {
      "needs_background": "light"
     },
     "output_type": "display_data"
    }
   ],
   "source": [
    "fig, ax = plt.subplots(figsize = (8,6))\n",
    "ax.hist(sim, bins = 100)\n",
    "ax.set_xlabel('X')\n",
    "ax.set_ylabel('count of generated X')\n",
    "ax.set_title(' gamma Random variable using acceptance-rejection method')\n",
    "plt.show()"
   ]
  }
 ],
 "metadata": {
  "kernelspec": {
   "display_name": "Python 3",
   "language": "python",
   "name": "python3"
  },
  "language_info": {
   "codemirror_mode": {
    "name": "ipython",
    "version": 3
   },
   "file_extension": ".py",
   "mimetype": "text/x-python",
   "name": "python",
   "nbconvert_exporter": "python",
   "pygments_lexer": "ipython3",
   "version": "3.8.8"
  }
 },
 "nbformat": 4,
 "nbformat_minor": 5
}
